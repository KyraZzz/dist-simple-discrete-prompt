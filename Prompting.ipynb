{
  "nbformat": 4,
  "nbformat_minor": 0,
  "metadata": {
    "colab": {
      "name": "Prompting.ipynb",
      "provenance": [],
      "collapsed_sections": [
        "7parHdu9UDC9",
        "Y2fGbMGoULcH"
      ]
    },
    "kernelspec": {
      "name": "python3",
      "display_name": "Python 3"
    },
    "language_info": {
      "name": "python"
    },
    "widgets": {
      "application/vnd.jupyter.widget-state+json": {
        "1ca484c0062e438da4a99043c43467bd": {
          "model_module": "@jupyter-widgets/controls",
          "model_name": "HBoxModel",
          "model_module_version": "1.5.0",
          "state": {
            "_view_name": "HBoxView",
            "_dom_classes": [],
            "_model_name": "HBoxModel",
            "_view_module": "@jupyter-widgets/controls",
            "_model_module_version": "1.5.0",
            "_view_count": null,
            "_view_module_version": "1.5.0",
            "box_style": "",
            "layout": "IPY_MODEL_6edf189a1eb54211a9b121245604b1de",
            "_model_module": "@jupyter-widgets/controls",
            "children": [
              "IPY_MODEL_6852418c7ccc4e07a2489a51fbc24fea",
              "IPY_MODEL_9e24446eafdf4f0c8f7ebc27f4a1d593",
              "IPY_MODEL_c96b20279bd24389a7fea2ebd52f0297"
            ]
          }
        },
        "6edf189a1eb54211a9b121245604b1de": {
          "model_module": "@jupyter-widgets/base",
          "model_name": "LayoutModel",
          "model_module_version": "1.2.0",
          "state": {
            "_view_name": "LayoutView",
            "grid_template_rows": null,
            "right": null,
            "justify_content": null,
            "_view_module": "@jupyter-widgets/base",
            "overflow": null,
            "_model_module_version": "1.2.0",
            "_view_count": null,
            "flex_flow": null,
            "width": null,
            "min_width": null,
            "border": null,
            "align_items": null,
            "bottom": null,
            "_model_module": "@jupyter-widgets/base",
            "top": null,
            "grid_column": null,
            "overflow_y": null,
            "overflow_x": null,
            "grid_auto_flow": null,
            "grid_area": null,
            "grid_template_columns": null,
            "flex": null,
            "_model_name": "LayoutModel",
            "justify_items": null,
            "grid_row": null,
            "max_height": null,
            "align_content": null,
            "visibility": null,
            "align_self": null,
            "height": null,
            "min_height": null,
            "padding": null,
            "grid_auto_rows": null,
            "grid_gap": null,
            "max_width": null,
            "order": null,
            "_view_module_version": "1.2.0",
            "grid_template_areas": null,
            "object_position": null,
            "object_fit": null,
            "grid_auto_columns": null,
            "margin": null,
            "display": null,
            "left": null
          }
        },
        "6852418c7ccc4e07a2489a51fbc24fea": {
          "model_module": "@jupyter-widgets/controls",
          "model_name": "HTMLModel",
          "model_module_version": "1.5.0",
          "state": {
            "_view_name": "HTMLView",
            "style": "IPY_MODEL_ba5157d4a9504898930bf4a324cdd2a9",
            "_dom_classes": [],
            "description": "",
            "_model_name": "HTMLModel",
            "placeholder": "​",
            "_view_module": "@jupyter-widgets/controls",
            "_model_module_version": "1.5.0",
            "value": "Downloading: 100%",
            "_view_count": null,
            "_view_module_version": "1.5.0",
            "description_tooltip": null,
            "_model_module": "@jupyter-widgets/controls",
            "layout": "IPY_MODEL_b01e8c1fbcdc42dc91ef17bff0290c6f"
          }
        },
        "9e24446eafdf4f0c8f7ebc27f4a1d593": {
          "model_module": "@jupyter-widgets/controls",
          "model_name": "FloatProgressModel",
          "model_module_version": "1.5.0",
          "state": {
            "_view_name": "ProgressView",
            "style": "IPY_MODEL_ef7efc9576b84eefad793e928bac1f30",
            "_dom_classes": [],
            "description": "",
            "_model_name": "FloatProgressModel",
            "bar_style": "success",
            "max": 60,
            "_view_module": "@jupyter-widgets/controls",
            "_model_module_version": "1.5.0",
            "value": 60,
            "_view_count": null,
            "_view_module_version": "1.5.0",
            "orientation": "horizontal",
            "min": 0,
            "description_tooltip": null,
            "_model_module": "@jupyter-widgets/controls",
            "layout": "IPY_MODEL_acc3f27fe85742a99a23d71c43a2ef61"
          }
        },
        "c96b20279bd24389a7fea2ebd52f0297": {
          "model_module": "@jupyter-widgets/controls",
          "model_name": "HTMLModel",
          "model_module_version": "1.5.0",
          "state": {
            "_view_name": "HTMLView",
            "style": "IPY_MODEL_847a542ba1dc453288e5515884d4eefc",
            "_dom_classes": [],
            "description": "",
            "_model_name": "HTMLModel",
            "placeholder": "​",
            "_view_module": "@jupyter-widgets/controls",
            "_model_module_version": "1.5.0",
            "value": " 60.0/60.0 [00:00&lt;00:00, 864B/s]",
            "_view_count": null,
            "_view_module_version": "1.5.0",
            "description_tooltip": null,
            "_model_module": "@jupyter-widgets/controls",
            "layout": "IPY_MODEL_7e81a07b8d75422594a9bf9ee8e07ea1"
          }
        },
        "ba5157d4a9504898930bf4a324cdd2a9": {
          "model_module": "@jupyter-widgets/controls",
          "model_name": "DescriptionStyleModel",
          "model_module_version": "1.5.0",
          "state": {
            "_view_name": "StyleView",
            "_model_name": "DescriptionStyleModel",
            "description_width": "",
            "_view_module": "@jupyter-widgets/base",
            "_model_module_version": "1.5.0",
            "_view_count": null,
            "_view_module_version": "1.2.0",
            "_model_module": "@jupyter-widgets/controls"
          }
        },
        "b01e8c1fbcdc42dc91ef17bff0290c6f": {
          "model_module": "@jupyter-widgets/base",
          "model_name": "LayoutModel",
          "model_module_version": "1.2.0",
          "state": {
            "_view_name": "LayoutView",
            "grid_template_rows": null,
            "right": null,
            "justify_content": null,
            "_view_module": "@jupyter-widgets/base",
            "overflow": null,
            "_model_module_version": "1.2.0",
            "_view_count": null,
            "flex_flow": null,
            "width": null,
            "min_width": null,
            "border": null,
            "align_items": null,
            "bottom": null,
            "_model_module": "@jupyter-widgets/base",
            "top": null,
            "grid_column": null,
            "overflow_y": null,
            "overflow_x": null,
            "grid_auto_flow": null,
            "grid_area": null,
            "grid_template_columns": null,
            "flex": null,
            "_model_name": "LayoutModel",
            "justify_items": null,
            "grid_row": null,
            "max_height": null,
            "align_content": null,
            "visibility": null,
            "align_self": null,
            "height": null,
            "min_height": null,
            "padding": null,
            "grid_auto_rows": null,
            "grid_gap": null,
            "max_width": null,
            "order": null,
            "_view_module_version": "1.2.0",
            "grid_template_areas": null,
            "object_position": null,
            "object_fit": null,
            "grid_auto_columns": null,
            "margin": null,
            "display": null,
            "left": null
          }
        },
        "ef7efc9576b84eefad793e928bac1f30": {
          "model_module": "@jupyter-widgets/controls",
          "model_name": "ProgressStyleModel",
          "model_module_version": "1.5.0",
          "state": {
            "_view_name": "StyleView",
            "_model_name": "ProgressStyleModel",
            "description_width": "",
            "_view_module": "@jupyter-widgets/base",
            "_model_module_version": "1.5.0",
            "_view_count": null,
            "_view_module_version": "1.2.0",
            "bar_color": null,
            "_model_module": "@jupyter-widgets/controls"
          }
        },
        "acc3f27fe85742a99a23d71c43a2ef61": {
          "model_module": "@jupyter-widgets/base",
          "model_name": "LayoutModel",
          "model_module_version": "1.2.0",
          "state": {
            "_view_name": "LayoutView",
            "grid_template_rows": null,
            "right": null,
            "justify_content": null,
            "_view_module": "@jupyter-widgets/base",
            "overflow": null,
            "_model_module_version": "1.2.0",
            "_view_count": null,
            "flex_flow": null,
            "width": null,
            "min_width": null,
            "border": null,
            "align_items": null,
            "bottom": null,
            "_model_module": "@jupyter-widgets/base",
            "top": null,
            "grid_column": null,
            "overflow_y": null,
            "overflow_x": null,
            "grid_auto_flow": null,
            "grid_area": null,
            "grid_template_columns": null,
            "flex": null,
            "_model_name": "LayoutModel",
            "justify_items": null,
            "grid_row": null,
            "max_height": null,
            "align_content": null,
            "visibility": null,
            "align_self": null,
            "height": null,
            "min_height": null,
            "padding": null,
            "grid_auto_rows": null,
            "grid_gap": null,
            "max_width": null,
            "order": null,
            "_view_module_version": "1.2.0",
            "grid_template_areas": null,
            "object_position": null,
            "object_fit": null,
            "grid_auto_columns": null,
            "margin": null,
            "display": null,
            "left": null
          }
        },
        "847a542ba1dc453288e5515884d4eefc": {
          "model_module": "@jupyter-widgets/controls",
          "model_name": "DescriptionStyleModel",
          "model_module_version": "1.5.0",
          "state": {
            "_view_name": "StyleView",
            "_model_name": "DescriptionStyleModel",
            "description_width": "",
            "_view_module": "@jupyter-widgets/base",
            "_model_module_version": "1.5.0",
            "_view_count": null,
            "_view_module_version": "1.2.0",
            "_model_module": "@jupyter-widgets/controls"
          }
        },
        "7e81a07b8d75422594a9bf9ee8e07ea1": {
          "model_module": "@jupyter-widgets/base",
          "model_name": "LayoutModel",
          "model_module_version": "1.2.0",
          "state": {
            "_view_name": "LayoutView",
            "grid_template_rows": null,
            "right": null,
            "justify_content": null,
            "_view_module": "@jupyter-widgets/base",
            "overflow": null,
            "_model_module_version": "1.2.0",
            "_view_count": null,
            "flex_flow": null,
            "width": null,
            "min_width": null,
            "border": null,
            "align_items": null,
            "bottom": null,
            "_model_module": "@jupyter-widgets/base",
            "top": null,
            "grid_column": null,
            "overflow_y": null,
            "overflow_x": null,
            "grid_auto_flow": null,
            "grid_area": null,
            "grid_template_columns": null,
            "flex": null,
            "_model_name": "LayoutModel",
            "justify_items": null,
            "grid_row": null,
            "max_height": null,
            "align_content": null,
            "visibility": null,
            "align_self": null,
            "height": null,
            "min_height": null,
            "padding": null,
            "grid_auto_rows": null,
            "grid_gap": null,
            "max_width": null,
            "order": null,
            "_view_module_version": "1.2.0",
            "grid_template_areas": null,
            "object_position": null,
            "object_fit": null,
            "grid_auto_columns": null,
            "margin": null,
            "display": null,
            "left": null
          }
        },
        "f3336fa8d33149fb90f443707cdfc0f9": {
          "model_module": "@jupyter-widgets/controls",
          "model_name": "HBoxModel",
          "model_module_version": "1.5.0",
          "state": {
            "_view_name": "HBoxView",
            "_dom_classes": [],
            "_model_name": "HBoxModel",
            "_view_module": "@jupyter-widgets/controls",
            "_model_module_version": "1.5.0",
            "_view_count": null,
            "_view_module_version": "1.5.0",
            "box_style": "",
            "layout": "IPY_MODEL_398a0779dce14813b21be1a9f3455eb4",
            "_model_module": "@jupyter-widgets/controls",
            "children": [
              "IPY_MODEL_ebe9a986b0b74ecabb59170b9a81e031",
              "IPY_MODEL_26e95acbd21a41b9a721aa11ef366e9c",
              "IPY_MODEL_c1869267fb2d4b3c9c0195a752f78263"
            ]
          }
        },
        "398a0779dce14813b21be1a9f3455eb4": {
          "model_module": "@jupyter-widgets/base",
          "model_name": "LayoutModel",
          "model_module_version": "1.2.0",
          "state": {
            "_view_name": "LayoutView",
            "grid_template_rows": null,
            "right": null,
            "justify_content": null,
            "_view_module": "@jupyter-widgets/base",
            "overflow": null,
            "_model_module_version": "1.2.0",
            "_view_count": null,
            "flex_flow": null,
            "width": null,
            "min_width": null,
            "border": null,
            "align_items": null,
            "bottom": null,
            "_model_module": "@jupyter-widgets/base",
            "top": null,
            "grid_column": null,
            "overflow_y": null,
            "overflow_x": null,
            "grid_auto_flow": null,
            "grid_area": null,
            "grid_template_columns": null,
            "flex": null,
            "_model_name": "LayoutModel",
            "justify_items": null,
            "grid_row": null,
            "max_height": null,
            "align_content": null,
            "visibility": null,
            "align_self": null,
            "height": null,
            "min_height": null,
            "padding": null,
            "grid_auto_rows": null,
            "grid_gap": null,
            "max_width": null,
            "order": null,
            "_view_module_version": "1.2.0",
            "grid_template_areas": null,
            "object_position": null,
            "object_fit": null,
            "grid_auto_columns": null,
            "margin": null,
            "display": null,
            "left": null
          }
        },
        "ebe9a986b0b74ecabb59170b9a81e031": {
          "model_module": "@jupyter-widgets/controls",
          "model_name": "HTMLModel",
          "model_module_version": "1.5.0",
          "state": {
            "_view_name": "HTMLView",
            "style": "IPY_MODEL_5c6a5ce3a3c24ae5bfa9acc2b71babbb",
            "_dom_classes": [],
            "description": "",
            "_model_name": "HTMLModel",
            "placeholder": "​",
            "_view_module": "@jupyter-widgets/controls",
            "_model_module_version": "1.5.0",
            "value": "Downloading: 100%",
            "_view_count": null,
            "_view_module_version": "1.5.0",
            "description_tooltip": null,
            "_model_module": "@jupyter-widgets/controls",
            "layout": "IPY_MODEL_8a12c6e5309e49fe8d446ca2abbc3f91"
          }
        },
        "26e95acbd21a41b9a721aa11ef366e9c": {
          "model_module": "@jupyter-widgets/controls",
          "model_name": "FloatProgressModel",
          "model_module_version": "1.5.0",
          "state": {
            "_view_name": "ProgressView",
            "style": "IPY_MODEL_cbc3dd6a5f6049d6b4cc242cfd0644a8",
            "_dom_classes": [],
            "description": "",
            "_model_name": "FloatProgressModel",
            "bar_style": "success",
            "max": 385,
            "_view_module": "@jupyter-widgets/controls",
            "_model_module_version": "1.5.0",
            "value": 385,
            "_view_count": null,
            "_view_module_version": "1.5.0",
            "orientation": "horizontal",
            "min": 0,
            "description_tooltip": null,
            "_model_module": "@jupyter-widgets/controls",
            "layout": "IPY_MODEL_3af59190abc0423c9585f64e403a7913"
          }
        },
        "c1869267fb2d4b3c9c0195a752f78263": {
          "model_module": "@jupyter-widgets/controls",
          "model_name": "HTMLModel",
          "model_module_version": "1.5.0",
          "state": {
            "_view_name": "HTMLView",
            "style": "IPY_MODEL_d81e367bb5f44d82b1661e429cfe1a7c",
            "_dom_classes": [],
            "description": "",
            "_model_name": "HTMLModel",
            "placeholder": "​",
            "_view_module": "@jupyter-widgets/controls",
            "_model_module_version": "1.5.0",
            "value": " 385/385 [00:00&lt;00:00, 5.28kB/s]",
            "_view_count": null,
            "_view_module_version": "1.5.0",
            "description_tooltip": null,
            "_model_module": "@jupyter-widgets/controls",
            "layout": "IPY_MODEL_52052710d9cf408fb4310e69facd79fc"
          }
        },
        "5c6a5ce3a3c24ae5bfa9acc2b71babbb": {
          "model_module": "@jupyter-widgets/controls",
          "model_name": "DescriptionStyleModel",
          "model_module_version": "1.5.0",
          "state": {
            "_view_name": "StyleView",
            "_model_name": "DescriptionStyleModel",
            "description_width": "",
            "_view_module": "@jupyter-widgets/base",
            "_model_module_version": "1.5.0",
            "_view_count": null,
            "_view_module_version": "1.2.0",
            "_model_module": "@jupyter-widgets/controls"
          }
        },
        "8a12c6e5309e49fe8d446ca2abbc3f91": {
          "model_module": "@jupyter-widgets/base",
          "model_name": "LayoutModel",
          "model_module_version": "1.2.0",
          "state": {
            "_view_name": "LayoutView",
            "grid_template_rows": null,
            "right": null,
            "justify_content": null,
            "_view_module": "@jupyter-widgets/base",
            "overflow": null,
            "_model_module_version": "1.2.0",
            "_view_count": null,
            "flex_flow": null,
            "width": null,
            "min_width": null,
            "border": null,
            "align_items": null,
            "bottom": null,
            "_model_module": "@jupyter-widgets/base",
            "top": null,
            "grid_column": null,
            "overflow_y": null,
            "overflow_x": null,
            "grid_auto_flow": null,
            "grid_area": null,
            "grid_template_columns": null,
            "flex": null,
            "_model_name": "LayoutModel",
            "justify_items": null,
            "grid_row": null,
            "max_height": null,
            "align_content": null,
            "visibility": null,
            "align_self": null,
            "height": null,
            "min_height": null,
            "padding": null,
            "grid_auto_rows": null,
            "grid_gap": null,
            "max_width": null,
            "order": null,
            "_view_module_version": "1.2.0",
            "grid_template_areas": null,
            "object_position": null,
            "object_fit": null,
            "grid_auto_columns": null,
            "margin": null,
            "display": null,
            "left": null
          }
        },
        "cbc3dd6a5f6049d6b4cc242cfd0644a8": {
          "model_module": "@jupyter-widgets/controls",
          "model_name": "ProgressStyleModel",
          "model_module_version": "1.5.0",
          "state": {
            "_view_name": "StyleView",
            "_model_name": "ProgressStyleModel",
            "description_width": "",
            "_view_module": "@jupyter-widgets/base",
            "_model_module_version": "1.5.0",
            "_view_count": null,
            "_view_module_version": "1.2.0",
            "bar_color": null,
            "_model_module": "@jupyter-widgets/controls"
          }
        },
        "3af59190abc0423c9585f64e403a7913": {
          "model_module": "@jupyter-widgets/base",
          "model_name": "LayoutModel",
          "model_module_version": "1.2.0",
          "state": {
            "_view_name": "LayoutView",
            "grid_template_rows": null,
            "right": null,
            "justify_content": null,
            "_view_module": "@jupyter-widgets/base",
            "overflow": null,
            "_model_module_version": "1.2.0",
            "_view_count": null,
            "flex_flow": null,
            "width": null,
            "min_width": null,
            "border": null,
            "align_items": null,
            "bottom": null,
            "_model_module": "@jupyter-widgets/base",
            "top": null,
            "grid_column": null,
            "overflow_y": null,
            "overflow_x": null,
            "grid_auto_flow": null,
            "grid_area": null,
            "grid_template_columns": null,
            "flex": null,
            "_model_name": "LayoutModel",
            "justify_items": null,
            "grid_row": null,
            "max_height": null,
            "align_content": null,
            "visibility": null,
            "align_self": null,
            "height": null,
            "min_height": null,
            "padding": null,
            "grid_auto_rows": null,
            "grid_gap": null,
            "max_width": null,
            "order": null,
            "_view_module_version": "1.2.0",
            "grid_template_areas": null,
            "object_position": null,
            "object_fit": null,
            "grid_auto_columns": null,
            "margin": null,
            "display": null,
            "left": null
          }
        },
        "d81e367bb5f44d82b1661e429cfe1a7c": {
          "model_module": "@jupyter-widgets/controls",
          "model_name": "DescriptionStyleModel",
          "model_module_version": "1.5.0",
          "state": {
            "_view_name": "StyleView",
            "_model_name": "DescriptionStyleModel",
            "description_width": "",
            "_view_module": "@jupyter-widgets/base",
            "_model_module_version": "1.5.0",
            "_view_count": null,
            "_view_module_version": "1.2.0",
            "_model_module": "@jupyter-widgets/controls"
          }
        },
        "52052710d9cf408fb4310e69facd79fc": {
          "model_module": "@jupyter-widgets/base",
          "model_name": "LayoutModel",
          "model_module_version": "1.2.0",
          "state": {
            "_view_name": "LayoutView",
            "grid_template_rows": null,
            "right": null,
            "justify_content": null,
            "_view_module": "@jupyter-widgets/base",
            "overflow": null,
            "_model_module_version": "1.2.0",
            "_view_count": null,
            "flex_flow": null,
            "width": null,
            "min_width": null,
            "border": null,
            "align_items": null,
            "bottom": null,
            "_model_module": "@jupyter-widgets/base",
            "top": null,
            "grid_column": null,
            "overflow_y": null,
            "overflow_x": null,
            "grid_auto_flow": null,
            "grid_area": null,
            "grid_template_columns": null,
            "flex": null,
            "_model_name": "LayoutModel",
            "justify_items": null,
            "grid_row": null,
            "max_height": null,
            "align_content": null,
            "visibility": null,
            "align_self": null,
            "height": null,
            "min_height": null,
            "padding": null,
            "grid_auto_rows": null,
            "grid_gap": null,
            "max_width": null,
            "order": null,
            "_view_module_version": "1.2.0",
            "grid_template_areas": null,
            "object_position": null,
            "object_fit": null,
            "grid_auto_columns": null,
            "margin": null,
            "display": null,
            "left": null
          }
        },
        "f34720eca6d54fb1acf9562dacf03790": {
          "model_module": "@jupyter-widgets/controls",
          "model_name": "HBoxModel",
          "model_module_version": "1.5.0",
          "state": {
            "_view_name": "HBoxView",
            "_dom_classes": [],
            "_model_name": "HBoxModel",
            "_view_module": "@jupyter-widgets/controls",
            "_model_module_version": "1.5.0",
            "_view_count": null,
            "_view_module_version": "1.5.0",
            "box_style": "",
            "layout": "IPY_MODEL_1464227024d34e44969aa970f0055114",
            "_model_module": "@jupyter-widgets/controls",
            "children": [
              "IPY_MODEL_2058f5b6e89f4347939f95a85c9f95b6",
              "IPY_MODEL_c747174b7858450f924e9cf096138f83",
              "IPY_MODEL_0eb16eefe8554e298010f1a24122e0eb"
            ]
          }
        },
        "1464227024d34e44969aa970f0055114": {
          "model_module": "@jupyter-widgets/base",
          "model_name": "LayoutModel",
          "model_module_version": "1.2.0",
          "state": {
            "_view_name": "LayoutView",
            "grid_template_rows": null,
            "right": null,
            "justify_content": null,
            "_view_module": "@jupyter-widgets/base",
            "overflow": null,
            "_model_module_version": "1.2.0",
            "_view_count": null,
            "flex_flow": null,
            "width": null,
            "min_width": null,
            "border": null,
            "align_items": null,
            "bottom": null,
            "_model_module": "@jupyter-widgets/base",
            "top": null,
            "grid_column": null,
            "overflow_y": null,
            "overflow_x": null,
            "grid_auto_flow": null,
            "grid_area": null,
            "grid_template_columns": null,
            "flex": null,
            "_model_name": "LayoutModel",
            "justify_items": null,
            "grid_row": null,
            "max_height": null,
            "align_content": null,
            "visibility": null,
            "align_self": null,
            "height": null,
            "min_height": null,
            "padding": null,
            "grid_auto_rows": null,
            "grid_gap": null,
            "max_width": null,
            "order": null,
            "_view_module_version": "1.2.0",
            "grid_template_areas": null,
            "object_position": null,
            "object_fit": null,
            "grid_auto_columns": null,
            "margin": null,
            "display": null,
            "left": null
          }
        },
        "2058f5b6e89f4347939f95a85c9f95b6": {
          "model_module": "@jupyter-widgets/controls",
          "model_name": "HTMLModel",
          "model_module_version": "1.5.0",
          "state": {
            "_view_name": "HTMLView",
            "style": "IPY_MODEL_a488e4a2ed8b4a978dd3aac26ec2991d",
            "_dom_classes": [],
            "description": "",
            "_model_name": "HTMLModel",
            "placeholder": "​",
            "_view_module": "@jupyter-widgets/controls",
            "_model_module_version": "1.5.0",
            "value": "Downloading: 100%",
            "_view_count": null,
            "_view_module_version": "1.5.0",
            "description_tooltip": null,
            "_model_module": "@jupyter-widgets/controls",
            "layout": "IPY_MODEL_0d35e59c78da483c9af36082226a9c61"
          }
        },
        "c747174b7858450f924e9cf096138f83": {
          "model_module": "@jupyter-widgets/controls",
          "model_name": "FloatProgressModel",
          "model_module_version": "1.5.0",
          "state": {
            "_view_name": "ProgressView",
            "style": "IPY_MODEL_caf4dfaa430a49d0adf7ef9e61300029",
            "_dom_classes": [],
            "description": "",
            "_model_name": "FloatProgressModel",
            "bar_style": "success",
            "max": 251003,
            "_view_module": "@jupyter-widgets/controls",
            "_model_module_version": "1.5.0",
            "value": 251003,
            "_view_count": null,
            "_view_module_version": "1.5.0",
            "orientation": "horizontal",
            "min": 0,
            "description_tooltip": null,
            "_model_module": "@jupyter-widgets/controls",
            "layout": "IPY_MODEL_539ffdd53551491497f0e45cba02b538"
          }
        },
        "0eb16eefe8554e298010f1a24122e0eb": {
          "model_module": "@jupyter-widgets/controls",
          "model_name": "HTMLModel",
          "model_module_version": "1.5.0",
          "state": {
            "_view_name": "HTMLView",
            "style": "IPY_MODEL_335e24a35d424a329ad091644a097c55",
            "_dom_classes": [],
            "description": "",
            "_model_name": "HTMLModel",
            "placeholder": "​",
            "_view_module": "@jupyter-widgets/controls",
            "_model_module_version": "1.5.0",
            "value": " 245k/245k [00:00&lt;00:00, 1.08MB/s]",
            "_view_count": null,
            "_view_module_version": "1.5.0",
            "description_tooltip": null,
            "_model_module": "@jupyter-widgets/controls",
            "layout": "IPY_MODEL_bbdd2ca37429432a92a5eee6abbebee8"
          }
        },
        "a488e4a2ed8b4a978dd3aac26ec2991d": {
          "model_module": "@jupyter-widgets/controls",
          "model_name": "DescriptionStyleModel",
          "model_module_version": "1.5.0",
          "state": {
            "_view_name": "StyleView",
            "_model_name": "DescriptionStyleModel",
            "description_width": "",
            "_view_module": "@jupyter-widgets/base",
            "_model_module_version": "1.5.0",
            "_view_count": null,
            "_view_module_version": "1.2.0",
            "_model_module": "@jupyter-widgets/controls"
          }
        },
        "0d35e59c78da483c9af36082226a9c61": {
          "model_module": "@jupyter-widgets/base",
          "model_name": "LayoutModel",
          "model_module_version": "1.2.0",
          "state": {
            "_view_name": "LayoutView",
            "grid_template_rows": null,
            "right": null,
            "justify_content": null,
            "_view_module": "@jupyter-widgets/base",
            "overflow": null,
            "_model_module_version": "1.2.0",
            "_view_count": null,
            "flex_flow": null,
            "width": null,
            "min_width": null,
            "border": null,
            "align_items": null,
            "bottom": null,
            "_model_module": "@jupyter-widgets/base",
            "top": null,
            "grid_column": null,
            "overflow_y": null,
            "overflow_x": null,
            "grid_auto_flow": null,
            "grid_area": null,
            "grid_template_columns": null,
            "flex": null,
            "_model_name": "LayoutModel",
            "justify_items": null,
            "grid_row": null,
            "max_height": null,
            "align_content": null,
            "visibility": null,
            "align_self": null,
            "height": null,
            "min_height": null,
            "padding": null,
            "grid_auto_rows": null,
            "grid_gap": null,
            "max_width": null,
            "order": null,
            "_view_module_version": "1.2.0",
            "grid_template_areas": null,
            "object_position": null,
            "object_fit": null,
            "grid_auto_columns": null,
            "margin": null,
            "display": null,
            "left": null
          }
        },
        "caf4dfaa430a49d0adf7ef9e61300029": {
          "model_module": "@jupyter-widgets/controls",
          "model_name": "ProgressStyleModel",
          "model_module_version": "1.5.0",
          "state": {
            "_view_name": "StyleView",
            "_model_name": "ProgressStyleModel",
            "description_width": "",
            "_view_module": "@jupyter-widgets/base",
            "_model_module_version": "1.5.0",
            "_view_count": null,
            "_view_module_version": "1.2.0",
            "bar_color": null,
            "_model_module": "@jupyter-widgets/controls"
          }
        },
        "539ffdd53551491497f0e45cba02b538": {
          "model_module": "@jupyter-widgets/base",
          "model_name": "LayoutModel",
          "model_module_version": "1.2.0",
          "state": {
            "_view_name": "LayoutView",
            "grid_template_rows": null,
            "right": null,
            "justify_content": null,
            "_view_module": "@jupyter-widgets/base",
            "overflow": null,
            "_model_module_version": "1.2.0",
            "_view_count": null,
            "flex_flow": null,
            "width": null,
            "min_width": null,
            "border": null,
            "align_items": null,
            "bottom": null,
            "_model_module": "@jupyter-widgets/base",
            "top": null,
            "grid_column": null,
            "overflow_y": null,
            "overflow_x": null,
            "grid_auto_flow": null,
            "grid_area": null,
            "grid_template_columns": null,
            "flex": null,
            "_model_name": "LayoutModel",
            "justify_items": null,
            "grid_row": null,
            "max_height": null,
            "align_content": null,
            "visibility": null,
            "align_self": null,
            "height": null,
            "min_height": null,
            "padding": null,
            "grid_auto_rows": null,
            "grid_gap": null,
            "max_width": null,
            "order": null,
            "_view_module_version": "1.2.0",
            "grid_template_areas": null,
            "object_position": null,
            "object_fit": null,
            "grid_auto_columns": null,
            "margin": null,
            "display": null,
            "left": null
          }
        },
        "335e24a35d424a329ad091644a097c55": {
          "model_module": "@jupyter-widgets/controls",
          "model_name": "DescriptionStyleModel",
          "model_module_version": "1.5.0",
          "state": {
            "_view_name": "StyleView",
            "_model_name": "DescriptionStyleModel",
            "description_width": "",
            "_view_module": "@jupyter-widgets/base",
            "_model_module_version": "1.5.0",
            "_view_count": null,
            "_view_module_version": "1.2.0",
            "_model_module": "@jupyter-widgets/controls"
          }
        },
        "bbdd2ca37429432a92a5eee6abbebee8": {
          "model_module": "@jupyter-widgets/base",
          "model_name": "LayoutModel",
          "model_module_version": "1.2.0",
          "state": {
            "_view_name": "LayoutView",
            "grid_template_rows": null,
            "right": null,
            "justify_content": null,
            "_view_module": "@jupyter-widgets/base",
            "overflow": null,
            "_model_module_version": "1.2.0",
            "_view_count": null,
            "flex_flow": null,
            "width": null,
            "min_width": null,
            "border": null,
            "align_items": null,
            "bottom": null,
            "_model_module": "@jupyter-widgets/base",
            "top": null,
            "grid_column": null,
            "overflow_y": null,
            "overflow_x": null,
            "grid_auto_flow": null,
            "grid_area": null,
            "grid_template_columns": null,
            "flex": null,
            "_model_name": "LayoutModel",
            "justify_items": null,
            "grid_row": null,
            "max_height": null,
            "align_content": null,
            "visibility": null,
            "align_self": null,
            "height": null,
            "min_height": null,
            "padding": null,
            "grid_auto_rows": null,
            "grid_gap": null,
            "max_width": null,
            "order": null,
            "_view_module_version": "1.2.0",
            "grid_template_areas": null,
            "object_position": null,
            "object_fit": null,
            "grid_auto_columns": null,
            "margin": null,
            "display": null,
            "left": null
          }
        }
      }
    }
  },
  "cells": [
    {
      "cell_type": "markdown",
      "source": [
        "# Prompt-based learning"
      ],
      "metadata": {
        "id": "EGSXXopgD17q"
      }
    },
    {
      "cell_type": "markdown",
      "source": [
        "Prompt-based learning is a new paradigm in the NLP field. In prompt-based learning, we do not have to hold any supervised learning process since we directly rely on the objective function (such as MLM) of any pre-trained language model. In order to use the models to achieve prediction tasks, the only thing to be done is to modify the original input<X> using a task-specific template into a textual string prompt such as <X, that is [MASK]> so that the model can achieve the task even without learning.\n",
        "Such a mechanism allows us to exploit the LM that is pre-trained on huge amounts of textual data. This prompting function can be defined to make any LM be able to achieve few-shot, one-shot, or even zero-shot learning tasks where we easily adapt the model to new scenarios even with few or no labeled data."
      ],
      "metadata": {
        "id": "7ceJT8xK0FQt"
      }
    },
    {
      "cell_type": "code",
      "source": [
        "!pip install -q transformers datasets"
      ],
      "metadata": {
        "id": "RrihLWeJHGGt"
      },
      "execution_count": 2,
      "outputs": []
    },
    {
      "cell_type": "code",
      "source": [
        "import os\n",
        "import numpy as np\n",
        "import pandas as pd\n",
        "from google.colab import drive\n",
        "drive.mount('/content/drive')\n",
        "os.chdir(\"/content/drive/MyDrive/akademi/PromptingDeneme\")"
      ],
      "metadata": {
        "colab": {
          "base_uri": "https://localhost:8080/"
        },
        "id": "YbijpKzDPou9",
        "outputId": "425592c2-9ea6-4c5c-d66a-7f23a3b2184b"
      },
      "execution_count": 3,
      "outputs": [
        {
          "output_type": "stream",
          "name": "stdout",
          "text": [
            "Mounted at /content/drive\n"
          ]
        }
      ]
    },
    {
      "cell_type": "code",
      "source": [
        ""
      ],
      "metadata": {
        "id": "7ZJUuOvJP1FU"
      },
      "execution_count": null,
      "outputs": []
    },
    {
      "cell_type": "code",
      "source": [
        "from transformers import AutoModelForMaskedLM , AutoTokenizer\n",
        "import torch\n",
        "model_path=\"dbmdz/bert-base-turkish-cased\"\n",
        "tokenizer = AutoTokenizer.from_pretrained(model_path)"
      ],
      "metadata": {
        "id": "Oi--laJuLvEC",
        "colab": {
          "base_uri": "https://localhost:8080/",
          "height": 113,
          "referenced_widgets": [
            "1ca484c0062e438da4a99043c43467bd",
            "6edf189a1eb54211a9b121245604b1de",
            "6852418c7ccc4e07a2489a51fbc24fea",
            "9e24446eafdf4f0c8f7ebc27f4a1d593",
            "c96b20279bd24389a7fea2ebd52f0297",
            "ba5157d4a9504898930bf4a324cdd2a9",
            "b01e8c1fbcdc42dc91ef17bff0290c6f",
            "ef7efc9576b84eefad793e928bac1f30",
            "acc3f27fe85742a99a23d71c43a2ef61",
            "847a542ba1dc453288e5515884d4eefc",
            "7e81a07b8d75422594a9bf9ee8e07ea1",
            "f3336fa8d33149fb90f443707cdfc0f9",
            "398a0779dce14813b21be1a9f3455eb4",
            "ebe9a986b0b74ecabb59170b9a81e031",
            "26e95acbd21a41b9a721aa11ef366e9c",
            "c1869267fb2d4b3c9c0195a752f78263",
            "5c6a5ce3a3c24ae5bfa9acc2b71babbb",
            "8a12c6e5309e49fe8d446ca2abbc3f91",
            "cbc3dd6a5f6049d6b4cc242cfd0644a8",
            "3af59190abc0423c9585f64e403a7913",
            "d81e367bb5f44d82b1661e429cfe1a7c",
            "52052710d9cf408fb4310e69facd79fc",
            "f34720eca6d54fb1acf9562dacf03790",
            "1464227024d34e44969aa970f0055114",
            "2058f5b6e89f4347939f95a85c9f95b6",
            "c747174b7858450f924e9cf096138f83",
            "0eb16eefe8554e298010f1a24122e0eb",
            "a488e4a2ed8b4a978dd3aac26ec2991d",
            "0d35e59c78da483c9af36082226a9c61",
            "caf4dfaa430a49d0adf7ef9e61300029",
            "539ffdd53551491497f0e45cba02b538",
            "335e24a35d424a329ad091644a097c55",
            "bbdd2ca37429432a92a5eee6abbebee8"
          ]
        },
        "outputId": "a04265a3-372f-44fc-c80c-02dd923bc6de"
      },
      "execution_count": 5,
      "outputs": [
        {
          "output_type": "display_data",
          "data": {
            "application/vnd.jupyter.widget-view+json": {
              "model_id": "1ca484c0062e438da4a99043c43467bd",
              "version_minor": 0,
              "version_major": 2
            },
            "text/plain": [
              "Downloading:   0%|          | 0.00/60.0 [00:00<?, ?B/s]"
            ]
          },
          "metadata": {}
        },
        {
          "output_type": "display_data",
          "data": {
            "application/vnd.jupyter.widget-view+json": {
              "model_id": "f3336fa8d33149fb90f443707cdfc0f9",
              "version_minor": 0,
              "version_major": 2
            },
            "text/plain": [
              "Downloading:   0%|          | 0.00/385 [00:00<?, ?B/s]"
            ]
          },
          "metadata": {}
        },
        {
          "output_type": "display_data",
          "data": {
            "application/vnd.jupyter.widget-view+json": {
              "model_id": "f34720eca6d54fb1acf9562dacf03790",
              "version_minor": 0,
              "version_major": 2
            },
            "text/plain": [
              "Downloading:   0%|          | 0.00/245k [00:00<?, ?B/s]"
            ]
          },
          "metadata": {}
        }
      ]
    },
    {
      "cell_type": "markdown",
      "source": [
        "## Prompting Class\n",
        "Here is the class definition for Prompting"
      ],
      "metadata": {
        "id": "gY9tUJ2WEJQn"
      }
    },
    {
      "cell_type": "code",
      "source": [
        "from transformers import AutoModelForMaskedLM , AutoTokenizer\n",
        "class Prompting(object):\n",
        "  \"\"\" doc string \n",
        "   This class helps us to implement\n",
        "   Prompt-based Learning Model\n",
        "  \"\"\"\n",
        "  def __init__(self, **kwargs):\n",
        "    \"\"\" constructor \n",
        "\n",
        "    parameter:\n",
        "    ----------\n",
        "       model: AutoModelForMaskedLM\n",
        "            path to a Pre-trained language model form HuggingFace Hub\n",
        "       tokenizer: AutoTokenizer\n",
        "            path to tokenizer if different tokenizer is used, \n",
        "            otherwise leave it empty\n",
        "    \"\"\"\n",
        "    model_path=kwargs['model']\n",
        "    tokenizer_path= kwargs['model']\n",
        "    if \"tokenizer\" in kwargs.keys():\n",
        "      tokenizer_path= kwargs['tokenizer']\n",
        "    self.model = AutoModelForMaskedLM.from_pretrained(model_path)\n",
        "    self.tokenizer = AutoTokenizer.from_pretrained(model_path)\n",
        "\n",
        "  def prompt_pred(self,text):\n",
        "    \"\"\"\n",
        "      Predict MASK token by listing the probability of candidate tokens \n",
        "      where the first token is the most likely\n",
        "\n",
        "      Parameters:\n",
        "      ----------\n",
        "      text: str \n",
        "          The text including [MASK] token.\n",
        "          It supports single MASK token. If more [MASK]ed tokens \n",
        "          are given, it takes the first one.\n",
        "\n",
        "      Returns:\n",
        "      --------\n",
        "      list of (token, prob)\n",
        "         The return is a list of all token in LM Vocab along with \n",
        "         their prob score, sort by score in descending order \n",
        "    \"\"\"\n",
        "    tokenized_text = self.tokenizer.tokenize(text)\n",
        "    indexed_tokens = self.tokenizer.convert_tokens_to_ids(tokenized_text)\n",
        "    tokens_tensor = torch.tensor([indexed_tokens])\n",
        "    # take the first masked token\n",
        "    mask_pos=tokenized_text.index(\"[MASK]\")\n",
        "    self.model.eval()\n",
        "    with torch.no_grad():\n",
        "      outputs = self.model(tokens_tensor)\n",
        "      predictions = outputs[0]\n",
        "    values, indices=torch.sort(predictions[0, mask_pos],  descending=True)\n",
        "    values=torch.nn.functional.softmax(values, dim=0)\n",
        "    result=list(zip(tokenizer.convert_ids_to_tokens(indices), values))\n",
        "    self.scores_dict={a:b for a,b in result}\n",
        "    return result\n",
        "\n",
        "  def compute_tokens_prob(self, text, token_list1, token_list2):\n",
        "    \"\"\"\n",
        "    Compute the activations for given two token list, \n",
        "\n",
        "    Parameters:\n",
        "    ---------\n",
        "    token_list1: List(str)\n",
        "     it is a list for positive polarity tokens such as good, great. \n",
        "    token_list2: List(str)\n",
        "     it is a list for negative polarity tokens such as bad, terrible.      \n",
        "\n",
        "    Returns:\n",
        "    --------\n",
        "    Tuple (\n",
        "       the probability for first token list,\n",
        "       the probability of the second token list,\n",
        "       the ratio score1/ (score1+score2)\n",
        "    \"\"\"\n",
        "    _=self.prompt_pred(text)\n",
        "    score1=[self.scores_dict[token1] if token1 in self.scores_dict.keys() else 0\\\n",
        "            for token1 in token_list1]\n",
        "    score1= max(score1)\n",
        "    score2=[self.scores_dict[token2] if token2 in self.scores_dict.keys() else 0\\\n",
        "            for token2 in token_list2]\n",
        "    score2= max(score2)\n",
        "    return score1, score2, score1/ (score1+score2)"
      ],
      "metadata": {
        "id": "oW_TsjAlc7Q2"
      },
      "execution_count": 29,
      "outputs": []
    },
    {
      "cell_type": "markdown",
      "source": [
        "I take Turkish LM here, you can choose any other model. "
      ],
      "metadata": {
        "id": "5e4LgLhmFIR1"
      }
    },
    {
      "cell_type": "code",
      "source": [
        "prompting= Prompting(model=\"dbmdz/bert-base-turkish-cased\")"
      ],
      "metadata": {
        "colab": {
          "base_uri": "https://localhost:8080/"
        },
        "id": "T698UBNks760",
        "outputId": "c31fae7d-06b1-4e9a-91d9-5e6f2f0bb131"
      },
      "execution_count": 30,
      "outputs": [
        {
          "output_type": "stream",
          "name": "stderr",
          "text": [
            "Some weights of the model checkpoint at dbmdz/bert-base-turkish-cased were not used when initializing BertForMaskedLM: ['cls.seq_relationship.weight', 'cls.seq_relationship.bias']\n",
            "- This IS expected if you are initializing BertForMaskedLM from the checkpoint of a model trained on another task or with another architecture (e.g. initializing a BertForSequenceClassification model from a BertForPreTraining model).\n",
            "- This IS NOT expected if you are initializing BertForMaskedLM from the checkpoint of a model that you expect to be exactly identical (initializing a BertForSequenceClassification model from a BertForSequenceClassification model).\n"
          ]
        }
      ]
    },
    {
      "cell_type": "markdown",
      "source": [
        "## Let the model predict some tokens"
      ],
      "metadata": {
        "id": "GWBBUoqCFUiU"
      }
    },
    {
      "cell_type": "markdown",
      "source": [
        "A POSITIVE example Input"
      ],
      "metadata": {
        "id": "v-llHxmqhhR8"
      }
    },
    {
      "cell_type": "code",
      "source": [
        "text=\"Çok keyif aldım filmden\" # Which means: I liked the film,\n",
        "propmt=\". çünkü [MASK] idi.\" #  since it was [MASK]\n",
        "prompted= text + propmt\n",
        "prompting.prompt_pred(prompted)[:10]"
      ],
      "metadata": {
        "colab": {
          "base_uri": "https://localhost:8080/"
        },
        "id": "1n23xEqxDgA9",
        "outputId": "da0741cc-3e89-417e-d825-737a675d0bcd"
      },
      "execution_count": 31,
      "outputs": [
        {
          "output_type": "execute_result",
          "data": {
            "text/plain": [
              "[('güzel', tensor(0.0294)),\n",
              " ('eski', tensor(0.0228)),\n",
              " ('harika', tensor(0.0220)),\n",
              " ('mükemmel', tensor(0.0214)),\n",
              " ('eğlenceli', tensor(0.0209)),\n",
              " ('yeni', tensor(0.0204)),\n",
              " ('muhteşem', tensor(0.0184)),\n",
              " ('kötü', tensor(0.0179)),\n",
              " ('komik', tensor(0.0171)),\n",
              " ('iyi', tensor(0.0169))]"
            ]
          },
          "metadata": {},
          "execution_count": 31
        }
      ]
    },
    {
      "cell_type": "code",
      "source": [
        ""
      ],
      "metadata": {
        "id": "gmaTfYHdhfzF"
      },
      "execution_count": 31,
      "outputs": []
    },
    {
      "cell_type": "markdown",
      "source": [
        "A NEGATIVE example Input"
      ],
      "metadata": {
        "id": "2OY531QMhl4E"
      }
    },
    {
      "cell_type": "code",
      "source": [
        "text=\"Çok keyif almadım filmden\" # Which means: I didn't enjoy the film\n",
        "propmt=\". çünkü [MASK] idi.\" # , since it was [MASK]\n",
        "prompted= text + propmt\n",
        "prompting.prompt_pred(prompted)[:10]"
      ],
      "metadata": {
        "colab": {
          "base_uri": "https://localhost:8080/"
        },
        "id": "HWEQ2sE6hga-",
        "outputId": "4c807e0d-f62e-43aa-8fe7-b79176ef5f4e"
      },
      "execution_count": 32,
      "outputs": [
        {
          "output_type": "execute_result",
          "data": {
            "text/plain": [
              "[('kötü', tensor(0.0362)),\n",
              " ('eski', tensor(0.0335)),\n",
              " ('berbat', tensor(0.0226)),\n",
              " ('yeni', tensor(0.0205)),\n",
              " ('gereksiz', tensor(0.0202)),\n",
              " ('iğrenç', tensor(0.0184)),\n",
              " ('sıkıcı', tensor(0.0166)),\n",
              " ('korkunç', tensor(0.0162)),\n",
              " ('saçma', tensor(0.0155)),\n",
              " ('güzel', tensor(0.0143))]"
            ]
          },
          "metadata": {},
          "execution_count": 32
        }
      ]
    },
    {
      "cell_type": "markdown",
      "source": [
        "## Producing the results for  a pair of neg/pos words\n",
        "Now we pass a list of neg/pos words rather thansinlge neg/pos words (tokens)"
      ],
      "metadata": {
        "id": "Y56NnjdNFZJ6"
      }
    },
    {
      "cell_type": "code",
      "source": [
        "text=\"Çok keyif almadım filmden\"\n",
        "propmt=\", çünkü [MASK] idi.\"\n",
        "prompted= text + propmt\n",
        "prompting.compute_tokens_prob(prompted, [\"gereksiz\"], [\"harika\"])"
      ],
      "metadata": {
        "colab": {
          "base_uri": "https://localhost:8080/"
        },
        "id": "Og1uFMJVtq5E",
        "outputId": "7ce0fe1f-2936-4da0-cd85-691b5075e2aa"
      },
      "execution_count": 33,
      "outputs": [
        {
          "output_type": "execute_result",
          "data": {
            "text/plain": [
              "(tensor(0.0391), tensor(0.0106), tensor(0.7865))"
            ]
          },
          "metadata": {},
          "execution_count": 33
        }
      ]
    },
    {
      "cell_type": "code",
      "source": [
        "text=\"Çok keyif almadım filmden\"\n",
        "propmt=\", çünkü [MASK] idi.\"\n",
        "prompted= text + propmt\n",
        "prompting.compute_tokens_prob(prompted, [\"gereksiz\",\"kötü\", \"berbat\",\"sıkıcı\"], [\"harika\",\"güzel\",\"mükemmel\",\"muhteşem\"])"
      ],
      "metadata": {
        "colab": {
          "base_uri": "https://localhost:8080/"
        },
        "id": "WI1fQge0d5Mn",
        "outputId": "094aabfc-bf21-4bb7-df9a-8a900ee927b8"
      },
      "execution_count": 34,
      "outputs": [
        {
          "output_type": "execute_result",
          "data": {
            "text/plain": [
              "(tensor(0.0391), tensor(0.0161), tensor(0.7078))"
            ]
          },
          "metadata": {},
          "execution_count": 34
        }
      ]
    },
    {
      "cell_type": "code",
      "source": [
        "text=\"Çok keyif aldım filmden\"\n",
        "prompted= text + propmt\n",
        "prompting.compute_tokens_prob(prompted, [\"gereksiz\"], [\"harika\"])"
      ],
      "metadata": {
        "colab": {
          "base_uri": "https://localhost:8080/"
        },
        "id": "ZRM6AH_FDKsC",
        "outputId": "480dc991-da18-4f79-8882-8693fafa5fd5"
      },
      "execution_count": 35,
      "outputs": [
        {
          "output_type": "execute_result",
          "data": {
            "text/plain": [
              "(tensor(0.0074), tensor(0.0600), tensor(0.1098))"
            ]
          },
          "metadata": {},
          "execution_count": 35
        }
      ]
    },
    {
      "cell_type": "code",
      "source": [
        "prompting.compute_tokens_prob(prompted, [\"gereksiz\",\"kötü\", \"berbat\",\"sıkıcı\"], [\"harika\",\"güzel\",\"mükemmel\",\"muhteşem\"])"
      ],
      "metadata": {
        "colab": {
          "base_uri": "https://localhost:8080/"
        },
        "id": "ZauM9VsSeYDC",
        "outputId": "764578b0-d02b-4230-e8f9-a2936f95c534"
      },
      "execution_count": 36,
      "outputs": [
        {
          "output_type": "execute_result",
          "data": {
            "text/plain": [
              "(tensor(0.0074), tensor(0.0600), tensor(0.1100))"
            ]
          },
          "metadata": {},
          "execution_count": 36
        }
      ]
    },
    {
      "cell_type": "markdown",
      "source": [
        "# Learning"
      ],
      "metadata": {
        "id": "V-7vHaV_GG_q"
      }
    },
    {
      "cell_type": "markdown",
      "source": [
        "We can check LM to find the which words are the most suitable (pos or neg) in according to LM. "
      ],
      "metadata": {
        "id": "ShNmgDjh9bg1"
      }
    },
    {
      "cell_type": "code",
      "source": [
        "df= pd.read_csv(\"film.tsv\", sep=\"\\t\", header=None)\n",
        "df.columns=[\"text\",\"label\"]\n",
        "df.head(3)"
      ],
      "metadata": {
        "colab": {
          "base_uri": "https://localhost:8080/",
          "height": 144
        },
        "id": "BkfxRB-JJIj_",
        "outputId": "f04a022f-0e8a-4ef4-d065-650c5e270d1a"
      },
      "execution_count": 38,
      "outputs": [
        {
          "output_type": "execute_result",
          "data": {
            "text/html": [
              "\n",
              "  <div id=\"df-f19604c5-a74a-4735-8def-ebf775a88dac\">\n",
              "    <div class=\"colab-df-container\">\n",
              "      <div>\n",
              "<style scoped>\n",
              "    .dataframe tbody tr th:only-of-type {\n",
              "        vertical-align: middle;\n",
              "    }\n",
              "\n",
              "    .dataframe tbody tr th {\n",
              "        vertical-align: top;\n",
              "    }\n",
              "\n",
              "    .dataframe thead th {\n",
              "        text-align: right;\n",
              "    }\n",
              "</style>\n",
              "<table border=\"1\" class=\"dataframe\">\n",
              "  <thead>\n",
              "    <tr style=\"text-align: right;\">\n",
              "      <th></th>\n",
              "      <th>text</th>\n",
              "      <th>label</th>\n",
              "    </tr>\n",
              "  </thead>\n",
              "  <tbody>\n",
              "    <tr>\n",
              "      <th>0</th>\n",
              "      <td>aglamaktan perisan oldugum bir filmdi..</td>\n",
              "      <td>1</td>\n",
              "    </tr>\n",
              "    <tr>\n",
              "      <th>1</th>\n",
              "      <td>altan erkekli benim için artik son derece dege...</td>\n",
              "      <td>0</td>\n",
              "    </tr>\n",
              "    <tr>\n",
              "      <th>2</th>\n",
              "      <td>bastan asagi mantik hatalariyla dolu, yeni nes...</td>\n",
              "      <td>0</td>\n",
              "    </tr>\n",
              "  </tbody>\n",
              "</table>\n",
              "</div>\n",
              "      <button class=\"colab-df-convert\" onclick=\"convertToInteractive('df-f19604c5-a74a-4735-8def-ebf775a88dac')\"\n",
              "              title=\"Convert this dataframe to an interactive table.\"\n",
              "              style=\"display:none;\">\n",
              "        \n",
              "  <svg xmlns=\"http://www.w3.org/2000/svg\" height=\"24px\"viewBox=\"0 0 24 24\"\n",
              "       width=\"24px\">\n",
              "    <path d=\"M0 0h24v24H0V0z\" fill=\"none\"/>\n",
              "    <path d=\"M18.56 5.44l.94 2.06.94-2.06 2.06-.94-2.06-.94-.94-2.06-.94 2.06-2.06.94zm-11 1L8.5 8.5l.94-2.06 2.06-.94-2.06-.94L8.5 2.5l-.94 2.06-2.06.94zm10 10l.94 2.06.94-2.06 2.06-.94-2.06-.94-.94-2.06-.94 2.06-2.06.94z\"/><path d=\"M17.41 7.96l-1.37-1.37c-.4-.4-.92-.59-1.43-.59-.52 0-1.04.2-1.43.59L10.3 9.45l-7.72 7.72c-.78.78-.78 2.05 0 2.83L4 21.41c.39.39.9.59 1.41.59.51 0 1.02-.2 1.41-.59l7.78-7.78 2.81-2.81c.8-.78.8-2.07 0-2.86zM5.41 20L4 18.59l7.72-7.72 1.47 1.35L5.41 20z\"/>\n",
              "  </svg>\n",
              "      </button>\n",
              "      \n",
              "  <style>\n",
              "    .colab-df-container {\n",
              "      display:flex;\n",
              "      flex-wrap:wrap;\n",
              "      gap: 12px;\n",
              "    }\n",
              "\n",
              "    .colab-df-convert {\n",
              "      background-color: #E8F0FE;\n",
              "      border: none;\n",
              "      border-radius: 50%;\n",
              "      cursor: pointer;\n",
              "      display: none;\n",
              "      fill: #1967D2;\n",
              "      height: 32px;\n",
              "      padding: 0 0 0 0;\n",
              "      width: 32px;\n",
              "    }\n",
              "\n",
              "    .colab-df-convert:hover {\n",
              "      background-color: #E2EBFA;\n",
              "      box-shadow: 0px 1px 2px rgba(60, 64, 67, 0.3), 0px 1px 3px 1px rgba(60, 64, 67, 0.15);\n",
              "      fill: #174EA6;\n",
              "    }\n",
              "\n",
              "    [theme=dark] .colab-df-convert {\n",
              "      background-color: #3B4455;\n",
              "      fill: #D2E3FC;\n",
              "    }\n",
              "\n",
              "    [theme=dark] .colab-df-convert:hover {\n",
              "      background-color: #434B5C;\n",
              "      box-shadow: 0px 1px 3px 1px rgba(0, 0, 0, 0.15);\n",
              "      filter: drop-shadow(0px 1px 2px rgba(0, 0, 0, 0.3));\n",
              "      fill: #FFFFFF;\n",
              "    }\n",
              "  </style>\n",
              "\n",
              "      <script>\n",
              "        const buttonEl =\n",
              "          document.querySelector('#df-f19604c5-a74a-4735-8def-ebf775a88dac button.colab-df-convert');\n",
              "        buttonEl.style.display =\n",
              "          google.colab.kernel.accessAllowed ? 'block' : 'none';\n",
              "\n",
              "        async function convertToInteractive(key) {\n",
              "          const element = document.querySelector('#df-f19604c5-a74a-4735-8def-ebf775a88dac');\n",
              "          const dataTable =\n",
              "            await google.colab.kernel.invokeFunction('convertToInteractive',\n",
              "                                                     [key], {});\n",
              "          if (!dataTable) return;\n",
              "\n",
              "          const docLinkHtml = 'Like what you see? Visit the ' +\n",
              "            '<a target=\"_blank\" href=https://colab.research.google.com/notebooks/data_table.ipynb>data table notebook</a>'\n",
              "            + ' to learn more about interactive tables.';\n",
              "          element.innerHTML = '';\n",
              "          dataTable['output_type'] = 'display_data';\n",
              "          await google.colab.output.renderOutput(dataTable, element);\n",
              "          const docLink = document.createElement('div');\n",
              "          docLink.innerHTML = docLinkHtml;\n",
              "          element.appendChild(docLink);\n",
              "        }\n",
              "      </script>\n",
              "    </div>\n",
              "  </div>\n",
              "  "
            ],
            "text/plain": [
              "                                                text  label\n",
              "0            aglamaktan perisan oldugum bir filmdi..      1\n",
              "1  altan erkekli benim için artik son derece dege...      0\n",
              "2  bastan asagi mantik hatalariyla dolu, yeni nes...      0"
            ]
          },
          "metadata": {},
          "execution_count": 38
        }
      ]
    },
    {
      "cell_type": "markdown",
      "source": [
        "Separate neg/pos corpus"
      ],
      "metadata": {
        "id": "a77U5mG69uGt"
      }
    },
    {
      "cell_type": "code",
      "source": [
        "pos=df[df.label==1]\n",
        "neg=df[df.label==0]\n",
        "pos.shape, neg.shape"
      ],
      "metadata": {
        "colab": {
          "base_uri": "https://localhost:8080/"
        },
        "id": "G1NhH4FbM2m8",
        "outputId": "1f1df55e-91e7-4ae0-c2d3-da8d6d84d5ff"
      },
      "execution_count": 39,
      "outputs": [
        {
          "output_type": "execute_result",
          "data": {
            "text/plain": [
              "((1644, 2), (1620, 2))"
            ]
          },
          "metadata": {},
          "execution_count": 39
        }
      ]
    },
    {
      "cell_type": "code",
      "source": [
        ""
      ],
      "metadata": {
        "id": "N5McylF8NaxY"
      },
      "execution_count": 40,
      "outputs": []
    },
    {
      "cell_type": "code",
      "source": [
        "# take first 200 examples for pos/neg\n",
        "pos200=pos[\"text\"].values[:200]\n",
        "neg200=neg[\"text\"].values[:200]"
      ],
      "metadata": {
        "id": "2n00Hu26NjHo"
      },
      "execution_count": 41,
      "outputs": []
    },
    {
      "cell_type": "markdown",
      "source": [
        "### Lets find positive tokens for a given template"
      ],
      "metadata": {
        "id": "7parHdu9UDC9"
      }
    },
    {
      "cell_type": "code",
      "source": [
        "pos_tokens=[]\n",
        "prompt=\", yani [MASK] bir film.\"\n",
        "\n",
        "for i,t in enumerate(pos200):\n",
        "  if i%25==0:\n",
        "    print(i)\n",
        "  prompted= \" \".join(t.split()[:10]) + prompt\n",
        "  res=prompting.prompt_pred(prompted)[:10]\n",
        "  res2=[e[0] for e in res]\n",
        "  pos_tokens+= res2"
      ],
      "metadata": {
        "colab": {
          "base_uri": "https://localhost:8080/"
        },
        "id": "BPUAz3YDOkGJ",
        "outputId": "510659d1-bc20-4581-b91d-dd650871b3f3"
      },
      "execution_count": null,
      "outputs": [
        {
          "output_type": "stream",
          "name": "stdout",
          "text": [
            "0\n",
            "25\n",
            "50\n",
            "75\n",
            "100\n",
            "125\n",
            "150\n",
            "175\n"
          ]
        }
      ]
    },
    {
      "cell_type": "code",
      "source": [
        "import collections\n",
        "cp=collections.Counter(pos_tokens)\n",
        "cp.most_common(10)"
      ],
      "metadata": {
        "colab": {
          "base_uri": "https://localhost:8080/"
        },
        "id": "oTsQQN8ETeWG",
        "outputId": "ad1cf20f-32c7-4d44-9eb5-477979fe938c"
      },
      "execution_count": null,
      "outputs": [
        {
          "output_type": "execute_result",
          "data": {
            "text/plain": [
              "[('güzel', 151),\n",
              " ('iyi', 147),\n",
              " ('harika', 133),\n",
              " ('yeni', 118),\n",
              " ('mükemmel', 93),\n",
              " ('sadece', 77),\n",
              " ('süper', 75),\n",
              " ('böyle', 60),\n",
              " ('klasik', 56),\n",
              " ('muhteşem', 49)]"
            ]
          },
          "metadata": {},
          "execution_count": 336
        }
      ]
    },
    {
      "cell_type": "markdown",
      "source": [
        "### Lets find negative tokens for a given template"
      ],
      "metadata": {
        "id": "Y2fGbMGoULcH"
      }
    },
    {
      "cell_type": "code",
      "source": [
        "neg_tokens=[]\n",
        "for i,t in enumerate(neg200):\n",
        "  if i%25==0:\n",
        "    print(i)\n",
        "  prompted= t + prompt\n",
        "  res=prompting.prompt_pred(prompted)[:10]\n",
        "  res2=[e[0] for e in res]\n",
        "  neg_tokens+= res2"
      ],
      "metadata": {
        "id": "8ytBjT6OThTk"
      },
      "execution_count": null,
      "outputs": []
    },
    {
      "cell_type": "code",
      "source": [
        "import collections\n",
        "cn=collections.Counter(neg_tokens)\n",
        "cn.most_common(8)"
      ],
      "metadata": {
        "id": "XRQy308GUT2F"
      },
      "execution_count": null,
      "outputs": []
    },
    {
      "cell_type": "code",
      "source": [
        ""
      ],
      "metadata": {
        "id": "Q_TZSFkMVwQw"
      },
      "execution_count": null,
      "outputs": []
    },
    {
      "cell_type": "markdown",
      "source": [
        "# Evaluation"
      ],
      "metadata": {
        "id": "XM3j7z1EwWjZ"
      }
    },
    {
      "cell_type": "code",
      "source": [
        "pos_test200=pos[\"text\"][200:400]\n",
        "neg_test200=neg[\"text\"][200:400]"
      ],
      "metadata": {
        "id": "Zscz0yzCmMzH"
      },
      "execution_count": null,
      "outputs": []
    },
    {
      "cell_type": "code",
      "source": [
        "prompt=\", son derece [MASK] bir filmdi.\""
      ],
      "metadata": {
        "id": "t99G1dUKesXw"
      },
      "execution_count": null,
      "outputs": []
    },
    {
      "cell_type": "markdown",
      "source": [
        "## For POSIVITE Set Eval."
      ],
      "metadata": {
        "id": "ZyfprMrPl8JS"
      }
    },
    {
      "cell_type": "code",
      "source": [
        "pos_best_tokens=[\"harika\",\"mükemmel\",\"muhteşem\",\"süper\"]\n",
        "neg_best_tokens=[\"kötü\",\"berbat\",\"sıkıcı\",\"sadece\"]\n",
        "\n",
        "crr=0\n",
        "for i,t in enumerate(pos_test200):\n",
        "  if i%25==0:\n",
        "    print(\"%s. step, and the number of correct case is %s\"%(i,crr))\n",
        "  prompted= t + prompt\n",
        "  res=prompting.compute_tokens_prob(prompted, pos_best_tokens, neg_best_tokens)\n",
        "  if res[2]>0.5:\n",
        "    crr+=1\n",
        "print(crr)"
      ],
      "metadata": {
        "colab": {
          "base_uri": "https://localhost:8080/"
        },
        "id": "pqm-TRzoWAMJ",
        "outputId": "a69846cd-ea70-4231-eb47-1faf9e2861d1"
      },
      "execution_count": null,
      "outputs": [
        {
          "output_type": "stream",
          "name": "stdout",
          "text": [
            "0. step, and the number of correct case is 0\n",
            "25. step, and the number of correct case is 19\n",
            "50. step, and the number of correct case is 36\n",
            "75. step, and the number of correct case is 54\n",
            "100. step, and the number of correct case is 74\n",
            "125. step, and the number of correct case is 95\n",
            "150. step, and the number of correct case is 117\n",
            "175. step, and the number of correct case is 140\n",
            "163\n"
          ]
        }
      ]
    },
    {
      "cell_type": "code",
      "source": [
        ""
      ],
      "metadata": {
        "id": "nKW-wG1mYmOK"
      },
      "execution_count": null,
      "outputs": []
    },
    {
      "cell_type": "markdown",
      "source": [
        "## For Negative set Eval"
      ],
      "metadata": {
        "id": "PXf0usErhCVU"
      }
    },
    {
      "cell_type": "code",
      "source": [
        "crr=0\n",
        "for i,t in enumerate(neg_test200):\n",
        "  if i%25==0:\n",
        "    print(\"%s. step, and the number of correct case is %s\"%(i,crr))\n",
        "  prompted= t + prompt\n",
        "  res=prompting.compute_tokens_prob(prompted, pos_best_tokens, neg_best_tokens)\n",
        "  if res[2]<0.5:\n",
        "    crr+=1\n",
        "print(crr)"
      ],
      "metadata": {
        "colab": {
          "base_uri": "https://localhost:8080/"
        },
        "id": "BTeQX0bVbEyN",
        "outputId": "1a5f8b29-19a4-45c8-a955-8081723da96f"
      },
      "execution_count": null,
      "outputs": [
        {
          "output_type": "stream",
          "name": "stdout",
          "text": [
            "0. step, and the number of correct case is 0\n",
            "25. step, and the number of correct case is 5\n",
            "50. step, and the number of correct case is 20\n",
            "75. step, and the number of correct case is 32\n",
            "100. step, and the number of correct case is 49\n",
            "125. step, and the number of correct case is 66\n",
            "150. step, and the number of correct case is 80\n",
            "175. step, and the number of correct case is 93\n",
            "108\n"
          ]
        }
      ]
    },
    {
      "cell_type": "code",
      "source": [
        ""
      ],
      "metadata": {
        "id": "6Q6OwT8MhBh-"
      },
      "execution_count": null,
      "outputs": []
    }
  ]
}